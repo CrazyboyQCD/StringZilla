{
 "cells": [
  {
   "cell_type": "markdown",
   "metadata": {},
   "source": [
    "# Benchmarks for String Similarity Scoring Functions"
   ]
  },
  {
   "cell_type": "markdown",
   "metadata": {},
   "source": [
    "Install the most commonly used Python packages for string similarity scoring. This includes JellyFish for Levenshtein and Levenshten-Damerau distance, RapidFuzz for Levenshtein distance, and BioPython for Needleman-Wunsh scores among others."
   ]
  },
  {
   "cell_type": "code",
   "execution_count": 1,
   "metadata": {},
   "outputs": [
    {
     "name": "stdout",
     "output_type": "stream",
     "text": [
      "Requirement already satisfied: rapidfuzz in /home/ubuntu/miniconda3/lib/python3.11/site-packages (3.5.2)\n",
      "Requirement already satisfied: python-Levenshtein in /home/ubuntu/miniconda3/lib/python3.11/site-packages (0.23.0)\n",
      "Requirement already satisfied: Levenshtein==0.23.0 in /home/ubuntu/miniconda3/lib/python3.11/site-packages (from python-Levenshtein) (0.23.0)\n",
      "Requirement already satisfied: rapidfuzz<4.0.0,>=3.1.0 in /home/ubuntu/miniconda3/lib/python3.11/site-packages (from Levenshtein==0.23.0->python-Levenshtein) (3.5.2)\n",
      "Requirement already satisfied: levenshtein in /home/ubuntu/miniconda3/lib/python3.11/site-packages (0.23.0)\n",
      "Requirement already satisfied: rapidfuzz<4.0.0,>=3.1.0 in /home/ubuntu/miniconda3/lib/python3.11/site-packages (from levenshtein) (3.5.2)\n",
      "Requirement already satisfied: jellyfish in /home/ubuntu/miniconda3/lib/python3.11/site-packages (1.0.3)\n",
      "Requirement already satisfied: editdistance in /home/ubuntu/miniconda3/lib/python3.11/site-packages (0.6.2)\n",
      "Requirement already satisfied: distance in /home/ubuntu/miniconda3/lib/python3.11/site-packages (0.1.3)\n",
      "Requirement already satisfied: polyleven in /home/ubuntu/miniconda3/lib/python3.11/site-packages (0.8)\n",
      "Requirement already satisfied: biopython in /home/ubuntu/miniconda3/lib/python3.11/site-packages (1.82)\n",
      "Requirement already satisfied: numpy in /home/ubuntu/miniconda3/lib/python3.11/site-packages (from biopython) (1.26.1)\n",
      "Requirement already satisfied: stringzilla in /home/ubuntu/miniconda3/lib/python3.11/site-packages (2.0.4)\n"
     ]
    }
   ],
   "source": [
    "!pip install rapidfuzz  # https://github.com/rapidfuzz/RapidFuzz\n",
    "!pip install python-Levenshtein  # https://github.com/maxbachmann/python-Levenshtein\n",
    "!pip install levenshtein # https://github.com/maxbachmann/Levenshtein\n",
    "!pip install jellyfish # https://github.com/jamesturk/jellyfish/\n",
    "!pip install editdistance # https://github.com/roy-ht/editdistance\n",
    "!pip install distance # https://github.com/doukremt/distance\n",
    "!pip install polyleven # https://github.com/fujimotos/polyleven\n",
    "!pip install biopython # https://github.com/biopython/biopython\n",
    "!pip install stringzilla # https://github.com/ashvardanian/stringzilla"
   ]
  },
  {
   "cell_type": "markdown",
   "metadata": {},
   "source": [
    "## Levenshtein Distance Between Short English Words"
   ]
  },
  {
   "cell_type": "markdown",
   "metadata": {},
   "source": [
    "We will be conducting benchmarks on a real-world dataset of English words. Let's download the dataset and load it into memory."
   ]
  },
  {
   "cell_type": "code",
   "execution_count": null,
   "metadata": {},
   "outputs": [],
   "source": [
    "!wget --no-clobber -O ../leipzig1M.txt https://introcs.cs.princeton.edu/python/42sort/leipzig1m.txt"
   ]
  },
  {
   "cell_type": "code",
   "execution_count": 1,
   "metadata": {},
   "outputs": [
    {
     "name": "stdout",
     "output_type": "stream",
     "text": [
      "21,191,455 words\n"
     ]
    }
   ],
   "source": [
    "words = open(\"../leipzig1M.txt\", \"r\").read().split()\n",
    "words = tuple(words)\n",
    "print(f\"{len(words):,} words\")"
   ]
  },
  {
   "cell_type": "code",
   "execution_count": 4,
   "metadata": {},
   "outputs": [],
   "source": [
    "import random\n",
    "\n",
    "def checksum_distances(tokens, distance_function, n: int = 1000000):\n",
    "    distances_sum = 0\n",
    "    while n:\n",
    "        a = random.choice(tokens)\n",
    "        b = random.choice(tokens)\n",
    "        distances_sum += distance_function(a, b)\n",
    "        n -= 1\n",
    "    return distances_sum"
   ]
  },
  {
   "cell_type": "code",
   "execution_count": 5,
   "metadata": {},
   "outputs": [],
   "source": [
    "import stringzilla as sz"
   ]
  },
  {
   "cell_type": "code",
   "execution_count": 6,
   "metadata": {},
   "outputs": [
    {
     "name": "stdout",
     "output_type": "stream",
     "text": [
      "1.25 s ± 45 ms per loop (mean ± std. dev. of 7 runs, 1 loop each)\n"
     ]
    }
   ],
   "source": [
    "%%timeit\n",
    "checksum_distances(words, sz.edit_distance)"
   ]
  },
  {
   "cell_type": "code",
   "execution_count": 7,
   "metadata": {},
   "outputs": [
    {
     "name": "stdout",
     "output_type": "stream",
     "text": [
      "792 ms ± 20.2 ms per loop (mean ± std. dev. of 7 runs, 1 loop each)\n"
     ]
    }
   ],
   "source": [
    "%%timeit\n",
    "checksum_distances(proteins, sz.edit_distance, 10_000)"
   ]
  },
  {
   "cell_type": "code",
   "execution_count": 8,
   "metadata": {},
   "outputs": [],
   "source": [
    "from rapidfuzz.distance import Levenshtein as rf"
   ]
  },
  {
   "cell_type": "code",
   "execution_count": 9,
   "metadata": {},
   "outputs": [
    {
     "name": "stdout",
     "output_type": "stream",
     "text": [
      "1.25 s ± 23.3 ms per loop (mean ± std. dev. of 7 runs, 1 loop each)\n"
     ]
    }
   ],
   "source": [
    "%%timeit\n",
    "checksum_distances(words, rf.distance)"
   ]
  },
  {
   "cell_type": "code",
   "execution_count": 10,
   "metadata": {},
   "outputs": [
    {
     "name": "stdout",
     "output_type": "stream",
     "text": [
      "47.4 ms ± 434 µs per loop (mean ± std. dev. of 7 runs, 10 loops each)\n"
     ]
    }
   ],
   "source": [
    "%%timeit\n",
    "checksum_distances(proteins, rf.distance, 10_000)"
   ]
  },
  {
   "cell_type": "code",
   "execution_count": null,
   "metadata": {},
   "outputs": [],
   "source": [
    "import editdistance as ed"
   ]
  },
  {
   "cell_type": "code",
   "execution_count": null,
   "metadata": {},
   "outputs": [],
   "source": [
    "%%timeit\n",
    "checksum_distances(words, ed.eval)"
   ]
  },
  {
   "cell_type": "code",
   "execution_count": null,
   "metadata": {},
   "outputs": [],
   "source": [
    "import jellyfish as jf"
   ]
  },
  {
   "cell_type": "code",
   "execution_count": null,
   "metadata": {},
   "outputs": [],
   "source": [
    "%%timeit\n",
    "checksum_distances(words, jf.levenshtein_distance)"
   ]
  },
  {
   "cell_type": "code",
   "execution_count": null,
   "metadata": {},
   "outputs": [],
   "source": [
    "import Levenshtein as le"
   ]
  },
  {
   "cell_type": "code",
   "execution_count": null,
   "metadata": {},
   "outputs": [],
   "source": [
    "%%timeit\n",
    "checksum_distances(words, le.distance)"
   ]
  },
  {
   "cell_type": "markdown",
   "metadata": {},
   "source": [
    "## Needleman-Wunsch Alignment Scores Between Random Protein Sequences"
   ]
  },
  {
   "cell_type": "markdown",
   "metadata": {},
   "source": [
    "For Needleman-Wunsh, let's generate some random protein sequences:"
   ]
  },
  {
   "cell_type": "code",
   "execution_count": null,
   "metadata": {},
   "outputs": [],
   "source": [
    "import random"
   ]
  },
  {
   "cell_type": "code",
   "execution_count": null,
   "metadata": {},
   "outputs": [
    {
     "name": "stdout",
     "output_type": "stream",
     "text": [
      "1,000 proteins\n"
     ]
    }
   ],
   "source": [
    "proteins = [''.join(random.choice('ACGT') for _ in range(300)) for _ in range(1_000)]\n",
    "print(f\"{len(proteins):,} proteins\")"
   ]
  },
  {
   "cell_type": "code",
   "execution_count": null,
   "metadata": {},
   "outputs": [],
   "source": [
    "from Bio import Align\n",
    "from Bio.Align import substitution_matrices\n",
    "aligner = Align.PairwiseAligner()\n",
    "aligner.substitution_matrix = substitution_matrices.load(\"BLOSUM62\")\n",
    "aligner.open_gap_score = 1\n",
    "aligner.extend_gap_score = 1"
   ]
  },
  {
   "cell_type": "code",
   "execution_count": null,
   "metadata": {},
   "outputs": [],
   "source": [
    "%%timeit\n",
    "checksum_distances(proteins, aligner.score, 10_000)"
   ]
  }
 ],
 "metadata": {
  "kernelspec": {
   "display_name": "base",
   "language": "python",
   "name": "python3"
  },
  "language_info": {
   "codemirror_mode": {
    "name": "ipython",
    "version": 3
   },
   "file_extension": ".py",
   "mimetype": "text/x-python",
   "name": "python",
   "nbconvert_exporter": "python",
   "pygments_lexer": "ipython3",
   "version": "3.11.5"
  }
 },
 "nbformat": 4,
 "nbformat_minor": 2
}
