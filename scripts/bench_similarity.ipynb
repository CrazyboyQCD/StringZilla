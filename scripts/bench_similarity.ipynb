{
 "cells": [
  {
   "cell_type": "markdown",
   "metadata": {},
   "source": [
    "# Benchmarks for String Similarity Scoring Functions"
   ]
  },
  {
   "cell_type": "markdown",
   "metadata": {},
   "source": [
    "Install the most commonly used Python packages for string similarity scoring. This includes JellyFish for Levenshtein and Levenshten-Damerau distance, RapidFuzz for Levenshtein distance, and BioPython for Needleman-Wunsh scores among others."
   ]
  },
  {
   "cell_type": "code",
   "execution_count": null,
   "metadata": {},
   "outputs": [],
   "source": [
    "!pip install rapidfuzz  # https://github.com/rapidfuzz/RapidFuzz\n",
    "!pip install python-Levenshtein  # https://github.com/maxbachmann/python-Levenshtein\n",
    "!pip install levenshtein # https://github.com/maxbachmann/Levenshtein\n",
    "!pip install jellyfish # https://github.com/jamesturk/jellyfish/\n",
    "!pip install editdistance # https://github.com/roy-ht/editdistance\n",
    "!pip install distance # https://github.com/doukremt/distance\n",
    "!pip install polyleven # https://github.com/fujimotos/polyleven\n",
    "!pip install biopython # https://github.com/biopython/biopython\n",
    "!pip install stringzilla # https://github.com/ashvardanian/stringzilla"
   ]
  },
  {
   "cell_type": "markdown",
   "metadata": {},
   "source": [
    "## Levenshtein Distance Between Short English Words"
   ]
  },
  {
   "cell_type": "markdown",
   "metadata": {},
   "source": [
    "We will be conducting benchmarks on a real-world dataset of English words. Let's download the dataset and load it into memory."
   ]
  },
  {
   "cell_type": "code",
   "execution_count": null,
   "metadata": {},
   "outputs": [],
   "source": [
    "!wget --no-clobber -O ../leipzig1M.txt https://introcs.cs.princeton.edu/python/42sort/leipzig1m.txt"
   ]
  },
  {
   "cell_type": "code",
   "execution_count": 1,
   "metadata": {},
   "outputs": [
    {
     "name": "stdout",
     "output_type": "stream",
     "text": [
      "21,191,455 words\n"
     ]
    }
   ],
   "source": [
    "words = open(\"../leipzig1M.txt\", \"r\").read().split()\n",
    "words = tuple(words)\n",
    "print(f\"{len(words):,} words\")"
   ]
  },
  {
   "cell_type": "code",
   "execution_count": 2,
   "metadata": {},
   "outputs": [],
   "source": [
    "import random\n",
    "\n",
    "def checksum_distances(tokens, distance_function, n: int = 1000000):\n",
    "    distances_sum = 0\n",
    "    while n:\n",
    "        a = random.choice(tokens)\n",
    "        b = random.choice(tokens)\n",
    "        distances_sum += distance_function(a, b)\n",
    "        n -= 1\n",
    "    return distances_sum"
   ]
  },
  {
   "cell_type": "code",
   "execution_count": 3,
   "metadata": {},
   "outputs": [],
   "source": [
    "import random"
   ]
  },
  {
   "cell_type": "code",
   "execution_count": 4,
   "metadata": {},
   "outputs": [
    {
     "name": "stdout",
     "output_type": "stream",
     "text": [
      "1,000 proteins\n"
     ]
    }
   ],
   "source": [
    "proteins = [''.join(random.choice('ACGT') for _ in range(10_000)) for _ in range(1_000)]\n",
    "print(f\"{len(proteins):,} proteins\")"
   ]
  },
  {
   "cell_type": "code",
   "execution_count": 5,
   "metadata": {},
   "outputs": [],
   "source": [
    "import stringzilla as sz"
   ]
  },
  {
   "cell_type": "code",
   "execution_count": null,
   "metadata": {},
   "outputs": [],
   "source": [
    "%%timeit\n",
    "checksum_distances(words, sz.edit_distance)"
   ]
  },
  {
   "cell_type": "code",
   "execution_count": null,
   "metadata": {},
   "outputs": [],
   "source": [
    "%%timeit\n",
    "checksum_distances(proteins, sz.edit_distance, 100)"
   ]
  },
  {
   "cell_type": "code",
   "execution_count": null,
   "metadata": {},
   "outputs": [],
   "source": [
    "from rapidfuzz.distance import Levenshtein as rf"
   ]
  },
  {
   "cell_type": "code",
   "execution_count": null,
   "metadata": {},
   "outputs": [],
   "source": [
    "%%timeit\n",
    "checksum_distances(words, rf.distance)"
   ]
  },
  {
   "cell_type": "code",
   "execution_count": null,
   "metadata": {},
   "outputs": [],
   "source": [
    "%%timeit\n",
    "checksum_distances(proteins, rf.distance, 100)"
   ]
  },
  {
   "cell_type": "code",
   "execution_count": null,
   "metadata": {},
   "outputs": [],
   "source": [
    "import editdistance as ed"
   ]
  },
  {
   "cell_type": "code",
   "execution_count": null,
   "metadata": {},
   "outputs": [],
   "source": [
    "%%timeit\n",
    "checksum_distances(words, ed.eval)"
   ]
  },
  {
   "cell_type": "code",
   "execution_count": null,
   "metadata": {},
   "outputs": [],
   "source": [
    "import jellyfish as jf"
   ]
  },
  {
   "cell_type": "code",
   "execution_count": null,
   "metadata": {},
   "outputs": [],
   "source": [
    "%%timeit\n",
    "checksum_distances(words, jf.levenshtein_distance)"
   ]
  },
  {
   "cell_type": "code",
   "execution_count": null,
   "metadata": {},
   "outputs": [],
   "source": [
    "import Levenshtein as le"
   ]
  },
  {
   "cell_type": "code",
   "execution_count": null,
   "metadata": {},
   "outputs": [],
   "source": [
    "%%timeit\n",
    "checksum_distances(words, le.distance)"
   ]
  },
  {
   "cell_type": "markdown",
   "metadata": {},
   "source": [
    "## Needleman-Wunsch Alignment Scores Between Random Protein Sequences"
   ]
  },
  {
   "cell_type": "markdown",
   "metadata": {},
   "source": [
    "For Needleman-Wunsh, let's generate some random protein sequences:"
   ]
  },
  {
   "cell_type": "code",
   "execution_count": 6,
   "metadata": {},
   "outputs": [],
   "source": [
    "from Bio import Align\n",
    "from Bio.Align import substitution_matrices\n",
    "aligner = Align.PairwiseAligner()\n",
    "aligner.substitution_matrix = substitution_matrices.load(\"BLOSUM62\")\n",
    "aligner.open_gap_score = 1\n",
    "aligner.extend_gap_score = 1"
   ]
  },
  {
   "cell_type": "code",
   "execution_count": 7,
   "metadata": {},
   "outputs": [
    {
     "data": {
      "text/plain": [
       "Array([[ 4., -1., -2., -2.,  0., -1., -1.,  0., -2., -1., -1., -1., -1.,\n",
       "        -2., -1.,  1.,  0., -3., -2.,  0., -2., -1.,  0., -4.],\n",
       "       [-1.,  5.,  0., -2., -3.,  1.,  0., -2.,  0., -3., -2.,  2., -1.,\n",
       "        -3., -2., -1., -1., -3., -2., -3., -1.,  0., -1., -4.],\n",
       "       [-2.,  0.,  6.,  1., -3.,  0.,  0.,  0.,  1., -3., -3.,  0., -2.,\n",
       "        -3., -2.,  1.,  0., -4., -2., -3.,  3.,  0., -1., -4.],\n",
       "       [-2., -2.,  1.,  6., -3.,  0.,  2., -1., -1., -3., -4., -1., -3.,\n",
       "        -3., -1.,  0., -1., -4., -3., -3.,  4.,  1., -1., -4.],\n",
       "       [ 0., -3., -3., -3.,  9., -3., -4., -3., -3., -1., -1., -3., -1.,\n",
       "        -2., -3., -1., -1., -2., -2., -1., -3., -3., -2., -4.],\n",
       "       [-1.,  1.,  0.,  0., -3.,  5.,  2., -2.,  0., -3., -2.,  1.,  0.,\n",
       "        -3., -1.,  0., -1., -2., -1., -2.,  0.,  3., -1., -4.],\n",
       "       [-1.,  0.,  0.,  2., -4.,  2.,  5., -2.,  0., -3., -3.,  1., -2.,\n",
       "        -3., -1.,  0., -1., -3., -2., -2.,  1.,  4., -1., -4.],\n",
       "       [ 0., -2.,  0., -1., -3., -2., -2.,  6., -2., -4., -4., -2., -3.,\n",
       "        -3., -2.,  0., -2., -2., -3., -3., -1., -2., -1., -4.],\n",
       "       [-2.,  0.,  1., -1., -3.,  0.,  0., -2.,  8., -3., -3., -1., -2.,\n",
       "        -1., -2., -1., -2., -2.,  2., -3.,  0.,  0., -1., -4.],\n",
       "       [-1., -3., -3., -3., -1., -3., -3., -4., -3.,  4.,  2., -3.,  1.,\n",
       "         0., -3., -2., -1., -3., -1.,  3., -3., -3., -1., -4.],\n",
       "       [-1., -2., -3., -4., -1., -2., -3., -4., -3.,  2.,  4., -2.,  2.,\n",
       "         0., -3., -2., -1., -2., -1.,  1., -4., -3., -1., -4.],\n",
       "       [-1.,  2.,  0., -1., -3.,  1.,  1., -2., -1., -3., -2.,  5., -1.,\n",
       "        -3., -1.,  0., -1., -3., -2., -2.,  0.,  1., -1., -4.],\n",
       "       [-1., -1., -2., -3., -1.,  0., -2., -3., -2.,  1.,  2., -1.,  5.,\n",
       "         0., -2., -1., -1., -1., -1.,  1., -3., -1., -1., -4.],\n",
       "       [-2., -3., -3., -3., -2., -3., -3., -3., -1.,  0.,  0., -3.,  0.,\n",
       "         6., -4., -2., -2.,  1.,  3., -1., -3., -3., -1., -4.],\n",
       "       [-1., -2., -2., -1., -3., -1., -1., -2., -2., -3., -3., -1., -2.,\n",
       "        -4.,  7., -1., -1., -4., -3., -2., -2., -1., -2., -4.],\n",
       "       [ 1., -1.,  1.,  0., -1.,  0.,  0.,  0., -1., -2., -2.,  0., -1.,\n",
       "        -2., -1.,  4.,  1., -3., -2., -2.,  0.,  0.,  0., -4.],\n",
       "       [ 0., -1.,  0., -1., -1., -1., -1., -2., -2., -1., -1., -1., -1.,\n",
       "        -2., -1.,  1.,  5., -2., -2.,  0., -1., -1.,  0., -4.],\n",
       "       [-3., -3., -4., -4., -2., -2., -3., -2., -2., -3., -2., -3., -1.,\n",
       "         1., -4., -3., -2., 11.,  2., -3., -4., -3., -2., -4.],\n",
       "       [-2., -2., -2., -3., -2., -1., -2., -3.,  2., -1., -1., -2., -1.,\n",
       "         3., -3., -2., -2.,  2.,  7., -1., -3., -2., -1., -4.],\n",
       "       [ 0., -3., -3., -3., -1., -2., -2., -3., -3.,  3.,  1., -2.,  1.,\n",
       "        -1., -2., -2.,  0., -3., -1.,  4., -3., -2., -1., -4.],\n",
       "       [-2., -1.,  3.,  4., -3.,  0.,  1., -1.,  0., -3., -4.,  0., -3.,\n",
       "        -3., -2.,  0., -1., -4., -3., -3.,  4.,  1., -1., -4.],\n",
       "       [-1.,  0.,  0.,  1., -3.,  3.,  4., -2.,  0., -3., -3.,  1., -1.,\n",
       "        -3., -1.,  0., -1., -3., -2., -2.,  1.,  4., -1., -4.],\n",
       "       [ 0., -1., -1., -1., -2., -1., -1., -1., -1., -1., -1., -1., -1.,\n",
       "        -1., -2.,  0.,  0., -2., -1., -1., -1., -1., -1., -4.],\n",
       "       [-4., -4., -4., -4., -4., -4., -4., -4., -4., -4., -4., -4., -4.,\n",
       "        -4., -4., -4., -4., -4., -4., -4., -4., -4., -4.,  1.]],\n",
       "         alphabet='ARNDCQEGHILKMFPSTWYVBZX*')"
      ]
     },
     "execution_count": 7,
     "metadata": {},
     "output_type": "execute_result"
    }
   ],
   "source": [
    "aligner.substitution_matrix"
   ]
  },
  {
   "cell_type": "markdown",
   "metadata": {},
   "source": [
    "Let's convert the BLOSUM matrix into a dense form with 256x256 elements. This will allow us to use the matrix with the Needleman-Wunsh algorithm implemented in StringZilla."
   ]
  },
  {
   "cell_type": "code",
   "execution_count": 8,
   "metadata": {},
   "outputs": [
    {
     "data": {
      "text/plain": [
       "576"
      ]
     },
     "execution_count": 8,
     "metadata": {},
     "output_type": "execute_result"
    }
   ],
   "source": [
    "import numpy as np\n",
    "\n",
    "subs_packed = np.array(aligner.substitution_matrix).astype(np.int8)\n",
    "subs_reconstructed = np.zeros((256, 256), dtype=np.int8)\n",
    "\n",
    "# Initialize all banned characters to a the largest possible penalty\n",
    "subs_reconstructed.fill(127)\n",
    "for packed_row, packed_row_aminoacid in enumerate(aligner.substitution_matrix.alphabet):\n",
    "    for packed_column, packed_column_aminoacid in enumerate(aligner.substitution_matrix.alphabet):\n",
    "        reconstructed_row = ord(packed_row_aminoacid)\n",
    "        reconstructed_column = ord(packed_column_aminoacid)\n",
    "        subs_reconstructed[reconstructed_row, reconstructed_column] = subs_packed[packed_row, packed_column]\n",
    "\n",
    "(subs_reconstructed < 127).sum()"
   ]
  },
  {
   "cell_type": "code",
   "execution_count": 9,
   "metadata": {},
   "outputs": [
    {
     "data": {
      "text/plain": [
       "'TCGCGATTCGGGAGGTCGCAGGTAGTGCAGTATCTCAGACCCGTGTTTTGTGTAGAGCAATTATCGTAGGACGCAAGATACATGTGCGTCTCCCACGACCGTTCACGAACAATGATAGCTTTGTAAAGGCTCCTTGAGAAGTTTTTTGACTGCTCGACTGGTTCTAAACATGTCCCGGCCTATTGCCCCAAAACCTGTGTGGATACTCACCCACGTCACATAATTTCGCGAATTTTACTGTTAACGAAAGGTGCCAGAAGCGGGACTAGCTCTGCTAGCTGTAACGGCCTACACATTCATCTTGGGAACGTACCGCCTACCTGAACAACGCAGTGTTAAGAGTAAACCAACTCAATTGGATGATTTCTGCGCTTCCGCAACAAAGCGAGGTTCTAACGAACACTGAGATATATTCGCGACAATCCTTTTAGTTCAGGAACGCTGACGGCAGGTTGTTATGCGCACCATTGATTATGAGTTAGGTGCACTGGCACAAAGTCTCTGTCCCGCGTACACTCGCTCCCGGCTTCGCAAACCTGAGGTCATTACGTATAAAATCTACATGTGAGACTAGTTTCGCGCATATGATGAGGTAAGATATCTCTGTTTCGTGCTGCGGTGGGTTTAATCATAGTTCTTAATACCCCTCTGTTAATCACAAACCCTTATCTAGCGTGGGTGAGGCATTTTGATTCTTTTCTGGTTTAGACTAAGGTACGCGGTAGTAGAATGATAACGGGCCAATTATGACTGAGAAGCAAGAGTAGAACGCGTCGCCAAACGCGCTATGCGATTCTGCAGAGCCGGCGGTATTTGATTTAAAGGTACAGATGGGAGCATGCTATAGAGGTACTAACAATTAAGATCTGACGGACATACCTATATCAACGTGACTTGTACATATGTGTTTTTATGGAAATTTGCAAGCTGCGATGAGCCGGGCTGGAGACGCTAACCCATGACGGTTGCGATATATGGGCGTTTGAGTCTCGTGCGTGCCAAATACCCCTCGATGTTCCTTGCCGTTGACTAGCATAGGCGCTCCGAGGCAACGTGGTCCGGAGCATAATCGCTTGCATAACAGTTAGAGTAAAGGGTGCGTATGTACCCATTGGCTCTGAAGTTCTTTACTATACAGAATAGGATCTAGGATTCCGCTCACTCACTACCTTCCGGCCTAGTTTCGTTAAGCACAAAGCCCGCTCTTTGTGGTACGGCCGGACGACAGTGGTCGTTACTAGCTTGAGTCAGGCTCACCGTGGCACAGAACTCTGCCGTCTCTAAAGTTCAGGTTCATATAGTAGCCGCTTCTGAGTACATGGTCAAAGGCCTAAGACCGGTGAAAACACCACTTAACGGGGATCATCGGTCGTGCGTCTATAGAGGACATCTTTGGGTACCTATGAGCAGCTGCGAGTGCTTCAGATAACGTGTAGAGGTCTTCGAGGCACCGTTGCTCTAAGGCATCTGCCTCTGCAATGCTCATGGTATCGGACGCCCTGTGCAACTATTGTTTCGCCTCGACGGAAGTCCAAGACCTATATAGAAAGGCACCTGCCTCCCAGACATAGGGTGTTCCAATTACTGTACTGGTGCTCTAATAAGATAACATTCGAATTCATTTGAGAGGCAGAGTCACCCGCAACATAGTATCCTTGCAAGATAAACCTGGTATACCTACAATTTTATGCGCTAACATGAACACATCGAAAAATTTAACTCACTGAGGTTCTCATAGTCTCGCTTCCTATATTGGGGGCCATTCACTGGGAGCGACGGTACTTGTGGTGACTACTAGTTAATAGGCCGTCAGAATGCCGTGGTCAAGCTCAAAGCACACCGGGGTGCGCCGAGTGAGGCTAGCAAGGCTGTTCTCAGACACCCCCTCCGACGTTCGAACAACTGCAGTTGCCTATTAAACAGATTCTCTTATTAGCTAGTGTGATCAATATCAGATATCTTACGCATTGACTTTTCCTGATTTAACGTTTGAAAAAATTGTCCCCCTGACGCGCCGTGGACCCCACAACATTGTATTAGTAGTGCCTTCTCCGGCATCAGGTTCACACTCGGTTAGTGAGTAGCAAGCTGCAGAGAATGACCGGAGAACAGTATTAGAGAACCCACAAGTATCTATGAGCCGATCGAGTACATGCTGGAGTACCCACGGGACCGAAGAGTAACTCACTCTTAGAGACTTGAAATATCGAAATAGGACAAGAGCCGTAATTTAGTGATTCTGAGTCTTTTAGACGTGAATATTAACTACCTGGACACTTTAAAGCGATTTTTACAGTAAAAGATACGTTCGTTGGTCTGTCTACCTATATTCAATCTTCAGGCACGTGAACCTTTAAAAATGTTGGGACTCACCAGGCGGGGGAATTCCTGCTTTCTTCGTGGTGGGTGTTGCCTCATATTCCCAGCGCGCAACGGTGCATCTTGGTTAAACCAACATGCGGTATGAACGCGCAACACGTAGGCCGTTAAATGACCCCCTGACCCCAGAATGCGTTTCTCCAAGTTTGACGAAAGCTCGGAGCGTCCAACAACGATGCCTGCGTCCGTGTGCAGGAGCTGCCCTACCCGCTCAACACGAACAGCATTTCAGGATAAGTTACGATAGACTTGGTGACTCTGTTACGCAGTGTACGTCTATTTGGTGCGCGAACTGGTGCTCTAACGCTATGGACCGTTACCGTTGACACATCAAGACAATTTTTGCGACTCGCTACGTGTGCGGGATGCAAGACTTGTTGCCAAAGCTTCCCAGTTACTCTCTCGCTCAACTATCGTTGATCCCGAAGGAGCCTCGATTAGTCTGTTTATTCTTGTGGCAAACCCACAACGAAAACGGCCCAACAGAGAGCGTAGCGTTTAGGGGGGCACGCCGTTACCGGATTGTTAATGGCAGCTTCATGTGGTCAATTTAAGATAGTACCAAAAGAGTTGAACTCGCATGCTTTCGTCAACTCCACGAGACCCCTTCTGCTAAAGAAGACCTACGACGTACTAAGTCGAGGGCATATGCTGCGCACCCACACAACTCCGGATCCAAAATTCATGTGCTGGACAATTGAGTTTCAATCCAATTCATAAACGATGCTTCTACGATTGATGGCCGTACCCCAAGGGTATGACCTACACAGAACTGCAGATACAACTCTATCAGTCTATCAGTATCCGGTCCAGTGCGTGCCCCAGGTCCCGTGTATCAATAGCCAAAGAGAGAGACACTAGTAGTAGGAGTCAAGACACGTACGTACCCCTAACTCTGAATCATTGTTTAAAGATGTCCGGAAATCCTAGCTTAAAGGTACACTAGTACTAATAGCGCTTTTCCCATCTAGTCATTCATTTTTCCAGATTCCATGTATCGAGACATAGTGTGCATTTATATTCACAACTTTTCTCCGCGAGCTTGTTTTACTCCCTCCCCCTTTCAGCTGGCTGTATTGATATTTTTTTTGAGCTAGTCATATAACAATGTACTAACACGCAGCTCTATACAGACAAATCCTTCTCCAGGCTGGTCACAGGCTATCAATCTTTCCGCGTCAGTTACCAAACTCGAAGCTGCAAAGTGACACATGACGCACCCATTTGCTGGCGTGCTCGATGCCTTCGACCTGATTATTATGTAATCCTAGTCTACAAATAAGTGGCGGCAGGCTCGCTGCCGAGGGAGGGAGGAGGCTGGACAAAACTTGTTCACGTATCGATCTACTGCGGCTTTGTCGACACACCACCATTCCCCATGGGGGGTATAAGGACCCACGTAGAGACACACGCTCCAACTCCGAGCAACATTCAGGCGGGACAAATCGTTGCGTAATCTATGTGGCGCTAGATGGAAGGCTTACCTGCACTACTAAGCAATATCATTCCCTTATGAACCAGCCAATCGTGTCTTCCTGCGTTATACACACGTATGTAGACTTTAAGTTCATATCTCCTGTGTCATAAACCCCGGTGAAGCCCTCCGCCCCACCCCGTAGCGGTAAAGAAGACTTGCCGCCCAGCTTTTTATTCGTCGCCGTGCCAACTGGGTTGACCGCGATTGACCAGTGCTATAACCAAGTAGCGACGTATAGTGCATCATTTCTTTTATCGCTGTGATGAGTAGGAGAATAAGGCAGCAATGTCTGCTGCTTGGCGTTAACGTACGGATAGACTTCCTTGGGCATCGGCAGATATATTCCCGTTGTAAAATTGAAAATATTGGTTGATTGTGAGCTCACCTGCTAAGGTTCGGTGCTGGCCGAGCTCCGCCTCCAAGCGGGTCGCGAAATTGCTGTACTATGTACCCCCGTCGGTATCTTCTACGGAATGCATGACGTCTTCTGGTCTTTCATTGCCCTATAGGGCCGGCTTCGCTAGGGAGCCTCGTGACCAAACTGGTGTATGCAAAATCAGAGGGAGGGTGCCCCTGAGAAGATCCCGAATCCCTTCGACACCCAGCAGTGTGCATGTCTGACTGGGACAAAGGTGGTAAGTATCGAGTCTGCTAACTTAGCGGCCCGCGCCTACGTTTTTCATTACTCGATCCTTGCGCGCCAGCATTCTAGGGGTTTGACGGCCTTTGTAGTGGGGCAGCTTATCATGGATGCAATCTGTTATCTAAAACTTTTATTACAAGGTCTCCATGTAGCTTTGAAATCGAGCCACGCACCGATGGCTGGTTGACGCGGGTATTGCTTTAAAATCGTGTGCACAGTGTCCGTCGCAATTATATACGGAGTACGCCTCAAGGAACTTGTCAAGGGTTGCCACCGCAGCGCGCAGGGGAATCTATAAGAGATTGCGCTGGGTAGCAGTAGTCTTTTCGACCCTGCGTTGAGCTAGGTGGTTACCTCGATCATGTACGCAGATTTCATAGACATGCATAGCGTTGCTGGAGGTTATAAGCTCGATCACGAATATTAATATCTGACGACCGCGACGTCGTACAAGCTTACCGTCGGACTTACACGAGGCCTTCTCTCTAATGCACACAGCCTTACCAGACTCGTGCCATCTCGGGGAAGGTACTACTTCATTCTAGCGTGCGGCAGCTGGTTCGCAGGGCCCATGTTCCACAACGAGTAATAATAGCGAACAAACGCGTTCTACGGCCATGGCCTTCCTGGAGAACATTGTCCCAGTTTCTCCCCTAGGCTCAGTGCTAGACCGCCGAGGCAACCCCAATAGTTTACTAGAACTCAGTGGTGATTGAACTTCGTACTAGTGGTAACGCAATGTGGGCCTGAGATACCGTTCGCGCCGGACAAAAGAACCGGCGACTTACTTACTCTGCATAGGAACAATACAGACCAGTCTGTCCACAAGCAAACAACAAGGTAGGGCACCGATGCTCACTCGGCACCCTATAATCTGCTGTGGAAAGACAGTGTTATGTAACTTTCTCCCTATACGGCAGTCATGGTCGGTCTACAGTGACGGATTGATTAACGGCTCTGGTCTAAAATTTCTCATGGATGGACGGCATACGCAAGCGCCCTGTAGATTACCCTTGCTTGATTTTACTGACGTCAAATTAGGAAAGAATAACAGCAAGAACATTCGGATCGGCAGCCATTCATTGTGGGGGATATGGCGAGTAACTATGGACAAGTGAGGATAGTCAAGATATTGTCACTCTTGAGCGGATCCACGTCCTCGTACGTGTCCACATCCGTCGTAGAACTTCGTCCCGTGACTGAACTGGTCAGCCATGCTCGGGCGCTATACCCACACGTCCCACAGCAAGGTCAACTGGTAAAATGCAAATACACAATCAGCGTAACGTCATGGTCGCTTCGAGGGCAAGATATCAGATGCCTGGCCGAATATATACGCAACAAGTCGCTCAGGCGGCTTGTCCGTGACTATGCGAATCGCCTCTTACTTCTCAGCCGGCACCTCTAGCCTGAATTAGCCAAGGTCTAAAAACACAGAAAGCACACATACCTCAAGATGCGTTGAGATGGATAGATTCGGGAACCGAAAGTCCGTCTGTCGTCATAAACCTAGCTCCGATTACCCAGAACATTAGTGCGGGCCGAATGTCCGGGTCGGTGGCATCCTCACAATATGACGATACGATTGTTAAAGCTCTCCCGTATCGTGACATAACGCTTTGCGATCCCATATCTATACGTTGTGACGCTTTTGTTCGGAGAAGCTGTGATCGCATTATGACCCATAACTAGCCCTATAACGCTATGGTAGAGCAGGTTGTCTGGCGGTTATGTCCTCGTGGCACGGTCATGGTGCGGGTGGCGTCCACTATTTTCGCCACAGGATGTTCCCGACACAAGTGTCTCACAAGCGGCTCTCTGTGTGCCACATGAATGATGGACTATTCGGCAGAGTACGTCAACTGTCACTAACGGTCTTAGAACAAACCTTACACAATGACCCAGGATGGGTTCCTTTGTATCTCGTCGAATCATCCAACACCTCCGCCAATCGGTTCAAGGTCCCTAGACAATGACGATTCCGACGGTGCTGCCTTACCTATGCCCGGAAGTCTTATGATCCCATACGGTAACAAGCAACATTCCGGTTCTAGGTACCAATGCCGCTAATATCGATTAATCCCAGTGCAAGGAGACGGCCAATCCTTGATCAATTAAAGGGGGTCCTTGGAAGGCCAGGACTGTTTAGAGAGCCGACGGGCCGTCCCCCTCCATCATATGGCAGATAAGCCGACGGTAAATCTTGCCGGGGACCGTAATTCCTAGATTTAGCTGCGGCCGGCACCTTGCGACGACGTTGCGAGTATTCACGAGGGCTCTAGCGGAAGCCGCGAAAGTTACTTACCCGTTAAACATGGCTAACTCGCTAAGCATAGCGGTTGCCTCGTAAAGCAGCCTTCCTCGCTTAGATTACCCATTCCCCAGATGTGGGTGTCCAGCCTGGCGACAAAGGTACTGGGTCACCGGACGCCCACATAATTGCAGCGGTAATGGATGGTTGGGGCGTAAGCTCCGGTGTTCGCCCAATAGTTCCGTTAAGAACATATGGCGTGATACAAACGTGTAGATACCGATGAAATTCTCTTTGGTACCTATGGCTTGGAGGTCGAGCTCGATCCCGTCCAACTGTGCGTTGATTGCAGTCGGTCGCACTCAGTCTCGGCTAGCAGGTGTGTTACGGTTCCTCCCGGTTGCGAAGGCCAGCCATTTAATGGGTTCCGGGAACCAGAGTTGCAGTTGCTGACGGGCCGGACTAAGATCCCACTCCGCTAGGTGGTGACCCGAGGTACGCGACCGTGGGATAGTAAGTTGTTGCATCACATGCCGAAAGCGCGTGGAGACTAGTCTGGACTAATGTCTGCAAGCTTTTGACGAACTAATTGTGTAATTGCACAAGTCATATAAACATGGATCCTCGCTGATACCTGGACCTTCTAAAATCTTGGCACTATGCCTCGTTGCGACGATAGGAGCTCTGGTAACTCTGCTTTACCTATCTGGAAGACTACAGTTATGATTATAAGTCCCGGATTAATACGTATGGCGACGACCCGTCGACTCTATACAGGACGTCCTGCTTCTAGACAAGGGTTCCGAGGAGGTACAAGTTCCCTATCCGTAACGGGAGGGCCATCTTGGACTTATGAGCCGGGATAGGTTGCCGCATAGCCACAAATGAGGCACCTCAGTTCTAACCCCATTGTAAACGTTGGTTTAGTGACGACGGGCAACACGTCCTGGTAAAAATGCCACTGTCGCACCCAACAATATCGATAGGCTGATACAAAAAGACCCCGGTGAATATACATCAACGCAATAACAAATGCTAAAGTTCAAGGCGTGGCCTGCTTTGAAGTACCTGTCAGGGGGCACTAGGCCGGATGGCGGGGAAGCACTTTTCCACACAATAGGCCCTGTCAGTTACAGCGATCGGGTGCGCGTATGTCGTCGGCAGAGGGGAAAGCTTGATCAAGCGATTTGTGTGGTTGTCGCGTTGTACAACAACACTTCTCGGGAATAAGTCGTTGACTGTGTTCTTCGAAGGAACCGCTCAAGAACCCTGACAGTTAACAATAGTATGAAAGGCTTTCTGCGTGTGCTTGGCCCGCGATCCGGGTTCCGGAGGTCTCGTATAAGATCGGAATAATGCACAGCTAAGACTAGGCTTCGCTGGACGAAAACATACTAGCTGATAGATCCGACGCCGGGCAACGATTCCTGGGTTTGCGTACAGATACTAAGTACAGTCCCCGTTTTCCTCTCACGCGCCAAATTCGCAATAACAGCTACACAACTTATCCTAGGCTTGGGATCACTAAGGCAGTGAAAGGCCGTCGTTCAAGCACACGCGTCTGACTTAACAGCTTCGTAGACGTTGCCCTCTGGGCGGCAGCTACGAGCCACAATTGTCTATGTCTCCGCTAAGATGCTTCGATGCGGTGAGGCCTTCAGACGTTCCAAGCGAGTCGGAATGTAAGTACTTCGCTCGCAATTCGTAGGCCACAGATTCCCAGGCTGGTCGTGGGGGCCCACAAAGGGGTTAAGGTGAGGGTCTCCAGAGCGGACAGTATGCTGCCAGGCGTTTACGCAGTAGGGATAGCTTGACTTCCCACCTTTTAAGAATACCGTGTCAGACGCAGCAGCCACTGATCGTTTCACGTACGCTCCATCCGTTCGCTACCGACCATCCCGAGAACGTTTAGTTTATGAACCTTCTTAACATTTAGGACTATACTATAGCCGAAGAATTCCGATTAATACTCAGCCCGAAGTTTGGCGTGGTTAGTCATGGGTTGGACCTTGGGGCAGACTAAGACCGAAAGAAACCATGCCTTGGTGTGGACCACAGCAGTAGGAAGCCGAGGCATACGATGTTATGACTACGTTAATGCAGCCTAGATCGATAAGCGCTAGTGAATAAACCCAATTCCCCTCGTATGAGTTCACGCGTGTATGTTAACCGGAACTTGGCTACGAACGCGACTTTAGGGTCGCTCGAGGGACGTTGACTCGCACCGCTCGTTATATTGTGACCTACCACAGATATGTAGAATGTTCTGTAGCGCTCTGTTCGGACATAGGCGCCTAGTTGTTCCCATAGGTCTGGGACTCTCTTTTCTACACGTTCGAGCTGTTAACTGCGGTCTGCTGTCCACCCTTATAGAGACTAGAAGTTTGTTCGGAAGCAGTCGCCTCCAAACTAGCTACATTGTTGCAGGTGAACACGAGGTTAAGTAACTAAACCCCTCTAGTCGACCAATGTCGGTGCGCTAGCGAGTTAATCTACGTGTCGGAATATGGCAACATGAAGAATTAATACGGCCTTCGAGGGGTCCACTATACAACCTGGCAGATCTCCCTTGTGGGGCAATTGGTATCTCCACCCGTTCTAAGCCACCGGGTCTTTGTGCGCTGGTCTCGTCGTACCTGTAATTGCTAATCTTTAAAAAAATGCCACGACCTTTTGTGCCCAGAAACGTTAGGGTTATACGGCCTTAGGGCCTCTATCCGGACGATTATGGGACCCACTAAAGCGTATGCCGTGTGTTTATCGCTCTGGGGTGTTAGGTTTCTGTTGTTGCTCTATTCCTTTATGAAGGTTATACTAACGAGTCCTAAAGTACCTCCCTGGACAACTCAGTAAGACTATCTACACAAACGATTATAGGGATAAACAGATCGGCACAAAAACCAATTACCACGCCCGGAGGGCCAGGAGATCAATCATAAACTTTCATGCAAACAACGAACGAGCTAGTGAGAGAGCATTGGTAGGATTCAACCGCCAATGAGTACGGGGGCTGTCTTTATAAATATTGAGACTAAGCAATTAATTAGCCGCGCGAAGTCAAAAGCGTAATTTCTTATCAGAAATTTACACGCCACAAGTATGGAATCGGCCTCCGCCCTCCGACAAGGGTGGTTGGAATTTTGGCACGGAGCGTTTGGCAATCGCGTTCCCACAAGGCGGATCCGTCAGTGGTGTATGCGAAACATAGGTACGTCAACTATTAGTCCCAGGAGCGTCCAGATCCCATACG'"
      ]
     },
     "execution_count": 9,
     "metadata": {},
     "output_type": "execute_result"
    }
   ],
   "source": [
    "proteins[1]"
   ]
  },
  {
   "cell_type": "code",
   "execution_count": 10,
   "metadata": {},
   "outputs": [
    {
     "data": {
      "text/plain": [
       "47815.0"
      ]
     },
     "execution_count": 10,
     "metadata": {},
     "output_type": "execute_result"
    }
   ],
   "source": [
    "aligner.score(proteins[0], proteins[1])"
   ]
  },
  {
   "cell_type": "code",
   "execution_count": 11,
   "metadata": {},
   "outputs": [
    {
     "data": {
      "text/plain": [
       "47815"
      ]
     },
     "execution_count": 11,
     "metadata": {},
     "output_type": "execute_result"
    }
   ],
   "source": [
    "sz.alignment_score(proteins[0], proteins[1], substitution_matrix=subs_reconstructed, gap_score=1)"
   ]
  },
  {
   "cell_type": "code",
   "execution_count": 12,
   "metadata": {},
   "outputs": [
    {
     "name": "stdout",
     "output_type": "stream",
     "text": [
      "7.74 s ± 10.3 ms per loop (mean ± std. dev. of 7 runs, 1 loop each)\n"
     ]
    }
   ],
   "source": [
    "%%timeit\n",
    "def sz_score(a, b): return sz.alignment_score(a, b, substitution_matrix=subs_reconstructed, gap_score=1)\n",
    "checksum_distances(proteins, sz_score, 100)"
   ]
  },
  {
   "cell_type": "code",
   "execution_count": null,
   "metadata": {},
   "outputs": [],
   "source": [
    "%%timeit\n",
    "checksum_distances(proteins, aligner.score, 100)"
   ]
  },
  {
   "cell_type": "code",
   "execution_count": null,
   "metadata": {},
   "outputs": [],
   "source": []
  }
 ],
 "metadata": {
  "kernelspec": {
   "display_name": "base",
   "language": "python",
   "name": "python3"
  },
  "language_info": {
   "codemirror_mode": {
    "name": "ipython",
    "version": 3
   },
   "file_extension": ".py",
   "mimetype": "text/x-python",
   "name": "python",
   "nbconvert_exporter": "python",
   "pygments_lexer": "ipython3",
   "version": "3.11.5"
  }
 },
 "nbformat": 4,
 "nbformat_minor": 2
}
